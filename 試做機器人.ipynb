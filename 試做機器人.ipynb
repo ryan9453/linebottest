{
  "nbformat": 4,
  "nbformat_minor": 0,
  "metadata": {
    "colab": {
      "name": "歡迎使用 Colaboratory",
      "provenance": [],
      "collapsed_sections": [],
      "include_colab_link": true
    },
    "kernelspec": {
      "display_name": "Python 3",
      "name": "python3"
    }
  },
  "cells": [
    {
      "cell_type": "markdown",
      "metadata": {
        "id": "view-in-github",
        "colab_type": "text"
      },
      "source": [
        "<a href=\"https://colab.research.google.com/github/ryan9453/linebottest/blob/main/%E8%A9%A6%E5%81%9A%E6%A9%9F%E5%99%A8%E4%BA%BA.ipynb\" target=\"_parent\"><img src=\"https://colab.research.google.com/assets/colab-badge.svg\" alt=\"Open In Colab\"/></a>"
      ]
    },
    {
      "cell_type": "code",
      "metadata": {
        "colab": {
          "base_uri": "https://localhost:8080/"
        },
        "id": "htNRk-w7m19m",
        "outputId": "a981faeb-8985-47db-ac99-f5f9f2e72d98"
      },
      "source": [
        "'''\n",
        "\n",
        "資料 mapping 至google drive\n",
        "\n",
        "把資料寫在/content/drive\n",
        "\n",
        "即可保存在 google drive內\n",
        "\n",
        "'''\n",
        "from google.colab import drive\n",
        "drive.mount('/content/drive')"
      ],
      "execution_count": 92,
      "outputs": [
        {
          "output_type": "stream",
          "text": [
            "Drive already mounted at /content/drive; to attempt to forcibly remount, call drive.mount(\"/content/drive\", force_remount=True).\n"
          ],
          "name": "stdout"
        }
      ]
    },
    {
      "cell_type": "code",
      "metadata": {
        "colab": {
          "base_uri": "https://localhost:8080/"
        },
        "id": "4X5Ag6ecm9eq",
        "outputId": "6207341f-ea7e-4a3e-d718-cabf09f206bc"
      },
      "source": [
        "# 安裝套件\n",
        "!pip install line-bot-sdk flask flask-ngrok"
      ],
      "execution_count": 93,
      "outputs": [
        {
          "output_type": "stream",
          "text": [
            "Requirement already satisfied: line-bot-sdk in /usr/local/lib/python3.7/dist-packages (1.19.0)\n",
            "Requirement already satisfied: flask in /usr/local/lib/python3.7/dist-packages (1.1.2)\n",
            "Requirement already satisfied: flask-ngrok in /usr/local/lib/python3.7/dist-packages (0.0.25)\n",
            "Requirement already satisfied: requests>=2.0 in /usr/local/lib/python3.7/dist-packages (from line-bot-sdk) (2.23.0)\n",
            "Requirement already satisfied: future in /usr/local/lib/python3.7/dist-packages (from line-bot-sdk) (0.16.0)\n",
            "Requirement already satisfied: Jinja2>=2.10.1 in /usr/local/lib/python3.7/dist-packages (from flask) (2.11.3)\n",
            "Requirement already satisfied: Werkzeug>=0.15 in /usr/local/lib/python3.7/dist-packages (from flask) (2.0.0)\n",
            "Requirement already satisfied: click>=5.1 in /usr/local/lib/python3.7/dist-packages (from flask) (8.0.0)\n",
            "Requirement already satisfied: itsdangerous>=0.24 in /usr/local/lib/python3.7/dist-packages (from flask) (2.0.0)\n",
            "Requirement already satisfied: certifi>=2017.4.17 in /usr/local/lib/python3.7/dist-packages (from requests>=2.0->line-bot-sdk) (2020.12.5)\n",
            "Requirement already satisfied: urllib3!=1.25.0,!=1.25.1,<1.26,>=1.21.1 in /usr/local/lib/python3.7/dist-packages (from requests>=2.0->line-bot-sdk) (1.24.3)\n",
            "Requirement already satisfied: chardet<4,>=3.0.2 in /usr/local/lib/python3.7/dist-packages (from requests>=2.0->line-bot-sdk) (3.0.4)\n",
            "Requirement already satisfied: idna<3,>=2.5 in /usr/local/lib/python3.7/dist-packages (from requests>=2.0->line-bot-sdk) (2.10)\n",
            "Requirement already satisfied: MarkupSafe>=0.23 in /usr/local/lib/python3.7/dist-packages (from Jinja2>=2.10.1->flask) (2.0.0)\n"
          ],
          "name": "stdout"
        }
      ]
    },
    {
      "cell_type": "code",
      "metadata": {
        "id": "83AKiXHInDlS"
      },
      "source": [
        "'''\n",
        "引用套件\n",
        "'''\n",
        "\n",
        "# 引用Web Server套件\n",
        "from flask import Flask, request, abort, jsonify\n",
        "\n",
        "# 載入json處理套件\n",
        "import json\n",
        "\n",
        "# 外部連結自動生成套件\n",
        "from flask_ngrok import run_with_ngrok\n",
        "\n",
        "# 從linebot 套件包裡引用 LineBotApi 與 WebhookHandler 類別\n",
        "from linebot import (\n",
        "    LineBotApi, WebhookHandler\n",
        ")\n",
        "\n",
        "# 引用無效簽章錯誤\n",
        "from linebot.exceptions import (\n",
        "    InvalidSignatureError\n",
        ")"
      ],
      "execution_count": 94,
      "outputs": []
    },
    {
      "cell_type": "code",
      "metadata": {
        "id": "OQyyPkehnFof"
      },
      "source": [
        "'''\n",
        "建置主程序app\n",
        "\n",
        "建置handler與 line_bot_api\n",
        "\n",
        "準備好app\n",
        "再準備 handler, 用來接收 Line 傳來的一切事務，順便做驗證，就像小秘書，過濾信件\n",
        "準備 line_bot_api，有些業務要跟 Line 溝通，都會透過 line_bot_api，回信、取個資。\n",
        "\n",
        "'''\n",
        "\n",
        "# 設定Server啟用細節\n",
        "app = Flask(__name__,static_url_path = \"/material\" , static_folder = \"./material/\")\n",
        "run_with_ngrok(app)\n",
        "\n",
        "# 生成實體物件\n",
        "line_bot_api = LineBotApi(\"iRuogYf3cHsttNKwqUwl0phQV4fNuhmRPyVenE5DB5ArJHSLH/jYuJr31y7+DgGWRZJUSzr5i8NsvbKUcy7Xb9Akxys5GWdqm2bRcsbr/s03t4mpBO9UDnGcQG+BYHsxBFC6y36okKYWUg1qakCVSwdB04t89/1O/w1cDnyilFU=\")\n",
        "handler = WebhookHandler(\"de49f52f78bea9f42d8e2d4536da212c\")"
      ],
      "execution_count": 95,
      "outputs": []
    },
    {
      "cell_type": "code",
      "metadata": {
        "id": "tiE1XsHRnGst"
      },
      "source": [
        "'''\n",
        "建置主程序的API入口\n",
        "  接受Line傳過來的消息\n",
        "  並取出消息內容\n",
        "  將消息內容存在google drive的檔案內\n",
        "  並請handler 進行消息驗證與轉發\n",
        "\n",
        "當流量消息 都給我們 ngrok.xxxx/(根目錄)，就會觸發 Line 消息的處理流程\n",
        "\n",
        "'''\n",
        "\n",
        "# 啟動server對外接口，使Line能丟消息進來\n",
        "@app.route(\"/\", methods=['POST'])\n",
        "def callback():\n",
        "    # get X-Line-Signature header value\n",
        "    # line 的加密簽章\n",
        "    signature = request.headers['X-Line-Signature']\n",
        "\n",
        "    # get request body as text\n",
        "    # 用戶傳來的內容\n",
        "    body = request.get_data(as_text=True)\n",
        "    print(body)\n",
        "\n",
        "    # 記錄用戶log\n",
        "    # 存在 google drive上，ai-event.log，ai-event.log\n",
        "    f = open(\"/content/drive/MyDrive/ai-event.log\", \"a\")\n",
        "    f.write(body)\n",
        "    f.close()\n",
        "\n",
        "    # handle webhook body\n",
        "    try:\n",
        "        # 把消息交給 handler 做驗證\n",
        "        # 會看是什麼樣的 event，做不同處理\n",
        "        handler.handle(body, signature)\n",
        "    except InvalidSignatureError:\n",
        "        abort(400)\n",
        "\n",
        "    return 'OK'"
      ],
      "execution_count": 96,
      "outputs": []
    },
    {
      "cell_type": "code",
      "metadata": {
        "id": "rdWD0HBQtErQ"
      },
      "source": [
        "'''\n",
        "菜單設定檔\n",
        "\n",
        "    設定圖面大小、按鍵名與功能\n",
        "    \n",
        "'''\n",
        "\n",
        "menuRawData = \"\"\"\n",
        "{\n",
        "  \"size\": {\n",
        "    \"width\": 2500,\n",
        "    \"height\": 1686\n",
        "  },\n",
        "  \"selected\": true,\n",
        "  \"name\": \"區塊鏈自定義菜單\",\n",
        "  \"chatBarText\": \"查看更多資訊\",\n",
        "  \"areas\": [\n",
        "    {\n",
        "      \"bounds\": {\n",
        "        \"x\": 115,\n",
        "        \"y\": 120,\n",
        "        \"width\": 950,\n",
        "        \"height\": 550\n",
        "      },\n",
        "      \"action\": {\n",
        "        \"type\": \"message\",\n",
        "        \"text\": \"[::text:]吃飯\"\n",
        "      }\n",
        "    },\n",
        "    {\n",
        "      \"bounds\": {\n",
        "        \"x\": 115,\n",
        "        \"y\": 940,\n",
        "        \"width\": 950,\n",
        "        \"height\": 550\n",
        "      },\n",
        "      \"action\": {\n",
        "        \"type\": \"message\",\n",
        "        \"text\": \"[::text:]自由\"\n",
        "      }\n",
        "    },\n",
        "    {\n",
        "      \"bounds\": {\n",
        "        \"x\": 1345,\n",
        "        \"y\": 120,\n",
        "        \"width\": 950,\n",
        "        \"height\": 550\n",
        "      },\n",
        "      \"action\": {\n",
        "        \"type\": \"message\",\n",
        "        \"text\": \"[::text:]是否\"\n",
        "      }\n",
        "    },\n",
        "    {\n",
        "      \"bounds\": {\n",
        "        \"x\": 1345,\n",
        "        \"y\": 940,\n",
        "        \"width\": 950,\n",
        "        \"height\": 550\n",
        "      },\n",
        "      \"action\": {\n",
        "        \"type\": \"message\",\n",
        "        \"text\": \"[::text:]幹話\"\n",
        "      }\n",
        "    }\n",
        "    \n",
        "  ]\n",
        "}\n",
        "\"\"\""
      ],
      "execution_count": 97,
      "outputs": []
    },
    {
      "cell_type": "code",
      "metadata": {
        "colab": {
          "base_uri": "https://localhost:8080/"
        },
        "id": "Xt-VzRGocEz8",
        "outputId": "34d7c440-834f-4c08-b5e3-d3f83f2482df"
      },
      "source": [
        "'''\n",
        "\n",
        "載入前面的圖文選單設定，\n",
        "\n",
        "並要求line_bot_api將圖文選單上傳至Line\n",
        "    \n",
        "\n",
        "'''\n",
        "\n",
        "from linebot.models import RichMenu\n",
        "import requests\n",
        "import json\n",
        "# 讀取圖文選單設定檔\n",
        "menuJson=json.loads(menuRawData)\n",
        "# 用 line_bot_api 的 create_rich_menu 方法 創造圖文選單 id\n",
        "# rich_menu : RichMenu\n",
        "# new_from_json_dict 可以從 json 裡面生成 RichMenu 物件\n",
        "lineRichMenuId = line_bot_api.create_rich_menu(rich_menu=RichMenu.new_from_json_dict(menuJson))\n",
        "print(lineRichMenuId)"
      ],
      "execution_count": 98,
      "outputs": [
        {
          "output_type": "stream",
          "text": [
            "richmenu-b018e34279eff3440bebc1e0877038fe\n"
          ],
          "name": "stdout"
        }
      ]
    },
    {
      "cell_type": "code",
      "metadata": {
        "colab": {
          "base_uri": "https://localhost:8080/"
        },
        "id": "Ii4CzD0pcVtz",
        "outputId": "c893aee1-cba2-4bf6-a1ce-5f0c88a82829"
      },
      "source": [
        "'''\n",
        "\n",
        "將先前準備的菜單照片，以Post消息寄發給Line\n",
        "\n",
        "    載入照片\n",
        "    要求line_bot_api，將圖片傳到先前的圖文選單id\n",
        "\n",
        "\n",
        "'''\n",
        "\n",
        "\n",
        "uploadImageFile=open(\"abc.jpg\",'rb')\n",
        "\n",
        "setImageResponse = line_bot_api.set_rich_menu_image(lineRichMenuId,'image/jpeg',uploadImageFile)\n",
        "\n",
        "print(setImageResponse)"
      ],
      "execution_count": 99,
      "outputs": [
        {
          "output_type": "stream",
          "text": [
            "None\n"
          ],
          "name": "stdout"
        }
      ]
    },
    {
      "cell_type": "code",
      "metadata": {
        "id": "Osmm0LEOnJrw"
      },
      "source": [
        "\n",
        "'''\n",
        "\n",
        "用戶關注 => FollowEvent\n",
        "\n",
        "撰寫用戶關注時，我們要處理的商業邏輯\n",
        "\n",
        "1. 取得用戶個資，並存回伺服器\n",
        "2. 回應用戶，歡迎用的文字消息\n",
        "\n",
        "'''\n",
        "\n",
        "# 載入Follow事件\n",
        "from linebot.models.events import (\n",
        "    FollowEvent\n",
        ")\n",
        "\n",
        "from linebot.models import(\n",
        "    TextSendMessage, ImageSendMessage\n",
        ")\n",
        "\n",
        "# 告知 handler，如果收到 FollowEvent，則做下面的方法處理\n",
        "# 告知 handler，收到 FollowEvent 的話，就執行下面的方法\n",
        "@handler.add(FollowEvent)\n",
        "def reply_text_and_get_user_profile(event):\n",
        "    \n",
        "    # 取出消息內User的資料\n",
        "    # 用 line_bot_api 跟 line 溝通，取得個資 get_profile(event.source.user_id)\n",
        "    # event 是每次傳來的消息\n",
        "    # source 來源\n",
        "    # user_id 發消息的用戶 id\n",
        "    # event.source.user_id\n",
        "    user_profile = line_bot_api.get_profile(event.source.user_id)\n",
        "        \n",
        "     # 把 user_profile 用 var() 處理成字典類型(dict)\n",
        "     # json.dumps(): json.dumps()用於將dict型別的資料轉成str，\n",
        "     # 因為如果直接將dict型別的資料寫入json檔案中會發生報錯，因此在將資料寫入時需要用到該函式。\n",
        "     # 將用戶資訊存在檔案內\n",
        "     # 存在 google drive 的 user.txt\n",
        "    with open(\"/content/drive/MyDrive/users.txt\", \"a\") as myfile:\n",
        "        myfile.write(json.dumps(vars(user_profile),sort_keys=True))\n",
        "        myfile.write('\\n')\n",
        "    \n",
        "    # 回覆文字消息與圖片消息\n",
        "    # 請 line_bot_api 回應消息給 line，line 轉發回去給用戶\n",
        "    # reply_message(reply_token)\n",
        "    # 每一次用戶傳給 line，line 轉傳過來的時候，附上這個票券，我們必須拿這個票券，跟 line 回應\n",
        "    line_bot_api.reply_message(\n",
        "      event.reply_token,\n",
        "      [TextSendMessage('''你好，歡迎使用選擇障礙神器\n",
        "我將解決你的選擇問題!''')]\n",
        "    )\n",
        "\n",
        "    linkResult=line_bot_api.link_rich_menu_to_user(event.source.user_id, lineRichMenuId)\n",
        "\n",
        "    print(linkResult)\n",
        "\n",
        "    print(event.source.user_id)\n",
        "    \n",
        "# def Link(event):\n",
        "#   '''\n",
        "\n",
        "#   將選單綁定到特定用戶身上\n",
        "#       取出上面得到的菜單Id及用戶id\n",
        "#       要求line_bot_api告知Line，將用戶與圖文選單做綁定\n",
        "\n",
        "#   '''\n",
        "\n",
        "#   # https://api.line.me/v2/bot/user/{userId}/richmenu/{richMenuId}\n",
        "\n",
        "\n",
        "#   linkResult=line_bot_api.link_rich_menu_to_user(event.source.user_id, lineRichMenuId)\n",
        "\n",
        "#   print(linkResult)\n",
        "\n",
        "#   print(event.source.user_id)"
      ],
      "execution_count": 100,
      "outputs": []
    },
    {
      "cell_type": "code",
      "metadata": {
        "colab": {
          "base_uri": "https://localhost:8080/"
        },
        "id": "_UVlu7uboTRb",
        "outputId": "58b6bf67-45c7-45d1-951c-fe63cb872b47"
      },
      "source": [
        "# 運行主程序\n",
        "app.run()"
      ],
      "execution_count": 101,
      "outputs": [
        {
          "output_type": "stream",
          "text": [
            " * Serving Flask app \"__main__\" (lazy loading)\n",
            " * Environment: production\n",
            "\u001b[31m   WARNING: This is a development server. Do not use it in a production deployment.\u001b[0m\n",
            "\u001b[2m   Use a production WSGI server instead.\u001b[0m\n",
            " * Debug mode: off\n"
          ],
          "name": "stdout"
        },
        {
          "output_type": "stream",
          "text": [
            " * Running on http://127.0.0.1:5000/ (Press CTRL+C to quit)\n"
          ],
          "name": "stderr"
        },
        {
          "output_type": "stream",
          "text": [
            " * Running on http://e9c24d4d2cfa.ngrok.io\n",
            " * Traffic stats available on http://127.0.0.1:4040\n"
          ],
          "name": "stdout"
        },
        {
          "output_type": "stream",
          "text": [
            "127.0.0.1 - - [25/May/2021 12:58:15] \"POST / HTTP/1.1\" 200 -\n"
          ],
          "name": "stderr"
        },
        {
          "output_type": "stream",
          "text": [
            "{\"destination\":\"Uce979b9786733f30f88ad4eb1d9e8125\",\"events\":[{\"type\":\"unfollow\",\"timestamp\":1621947494559,\"source\":{\"type\":\"user\",\"userId\":\"U69b5bef808bc39b5bb76b7d5e17b7a82\"},\"mode\":\"active\"}]}\n",
            "{\"destination\":\"Uce979b9786733f30f88ad4eb1d9e8125\",\"events\":[{\"type\":\"follow\",\"timestamp\":1621947495429,\"source\":{\"type\":\"user\",\"userId\":\"U69b5bef808bc39b5bb76b7d5e17b7a82\"},\"replyToken\":\"4983ef058832422f91997415a51df04b\",\"mode\":\"active\"}]}\n"
          ],
          "name": "stdout"
        },
        {
          "output_type": "stream",
          "text": [
            "127.0.0.1 - - [25/May/2021 12:58:16] \"POST / HTTP/1.1\" 200 -\n"
          ],
          "name": "stderr"
        },
        {
          "output_type": "stream",
          "text": [
            "None\n",
            "U69b5bef808bc39b5bb76b7d5e17b7a82\n"
          ],
          "name": "stdout"
        },
        {
          "output_type": "stream",
          "text": [
            "127.0.0.1 - - [25/May/2021 12:58:19] \"POST / HTTP/1.1\" 200 -\n"
          ],
          "name": "stderr"
        },
        {
          "output_type": "stream",
          "text": [
            "{\"destination\":\"Uce979b9786733f30f88ad4eb1d9e8125\",\"events\":[{\"type\":\"message\",\"message\":{\"type\":\"text\",\"id\":\"14112649220649\",\"text\":\"[::text:]吃飯\"},\"timestamp\":1621947499431,\"source\":{\"type\":\"user\",\"userId\":\"U69b5bef808bc39b5bb76b7d5e17b7a82\"},\"replyToken\":\"296a8fc7814949cb96a0e74cfaee782e\",\"mode\":\"active\"}]}\n"
          ],
          "name": "stdout"
        },
        {
          "output_type": "stream",
          "text": [
            "127.0.0.1 - - [25/May/2021 12:58:20] \"POST / HTTP/1.1\" 200 -\n"
          ],
          "name": "stderr"
        },
        {
          "output_type": "stream",
          "text": [
            "{\"destination\":\"Uce979b9786733f30f88ad4eb1d9e8125\",\"events\":[{\"type\":\"message\",\"message\":{\"type\":\"text\",\"id\":\"14112649321953\",\"text\":\"[::text:]是否\"},\"timestamp\":1621947500581,\"source\":{\"type\":\"user\",\"userId\":\"U69b5bef808bc39b5bb76b7d5e17b7a82\"},\"replyToken\":\"897195282d2240a4888fe500e1c885a8\",\"mode\":\"active\"}]}\n"
          ],
          "name": "stdout"
        },
        {
          "output_type": "stream",
          "text": [
            "127.0.0.1 - - [25/May/2021 12:58:22] \"POST / HTTP/1.1\" 200 -\n"
          ],
          "name": "stderr"
        },
        {
          "output_type": "stream",
          "text": [
            "{\"destination\":\"Uce979b9786733f30f88ad4eb1d9e8125\",\"events\":[{\"type\":\"message\",\"message\":{\"type\":\"text\",\"id\":\"14112649397393\",\"text\":\"[::text:]幹話\"},\"timestamp\":1621947501382,\"source\":{\"type\":\"user\",\"userId\":\"U69b5bef808bc39b5bb76b7d5e17b7a82\"},\"replyToken\":\"3bbd7e1e70ce40438113a35b40774d85\",\"mode\":\"active\"}]}\n"
          ],
          "name": "stdout"
        },
        {
          "output_type": "stream",
          "text": [
            "127.0.0.1 - - [25/May/2021 12:58:22] \"POST / HTTP/1.1\" 200 -\n"
          ],
          "name": "stderr"
        },
        {
          "output_type": "stream",
          "text": [
            "{\"destination\":\"Uce979b9786733f30f88ad4eb1d9e8125\",\"events\":[{\"type\":\"message\",\"message\":{\"type\":\"text\",\"id\":\"14112649444469\",\"text\":\"[::text:]自由\"},\"timestamp\":1621947501903,\"source\":{\"type\":\"user\",\"userId\":\"U69b5bef808bc39b5bb76b7d5e17b7a82\"},\"replyToken\":\"98786ca7d30d49f2870af10a0c9d5571\",\"mode\":\"active\"}]}\n"
          ],
          "name": "stdout"
        },
        {
          "output_type": "stream",
          "text": [
            "127.0.0.1 - - [25/May/2021 12:58:54] \"POST / HTTP/1.1\" 200 -\n"
          ],
          "name": "stderr"
        },
        {
          "output_type": "stream",
          "text": [
            "{\"destination\":\"Uce979b9786733f30f88ad4eb1d9e8125\",\"events\":[{\"type\":\"message\",\"message\":{\"type\":\"text\",\"id\":\"14112652410363\",\"text\":\"[::text:]是否\"},\"timestamp\":1621947533667,\"source\":{\"type\":\"user\",\"userId\":\"U69b5bef808bc39b5bb76b7d5e17b7a82\"},\"replyToken\":\"50fc199e03004ee6862c42ea9ad1dacd\",\"mode\":\"active\"}]}\n"
          ],
          "name": "stdout"
        },
        {
          "output_type": "stream",
          "text": [
            "127.0.0.1 - - [25/May/2021 12:58:55] \"POST / HTTP/1.1\" 200 -\n"
          ],
          "name": "stderr"
        },
        {
          "output_type": "stream",
          "text": [
            "{\"destination\":\"Uce979b9786733f30f88ad4eb1d9e8125\",\"events\":[{\"type\":\"message\",\"message\":{\"type\":\"text\",\"id\":\"14112652492238\",\"text\":\"[::text:]幹話\"},\"timestamp\":1621947534533,\"source\":{\"type\":\"user\",\"userId\":\"U69b5bef808bc39b5bb76b7d5e17b7a82\"},\"replyToken\":\"d9da1525a1904ee6ba1f76e4c1955fed\",\"mode\":\"active\"}]}\n"
          ],
          "name": "stdout"
        },
        {
          "output_type": "stream",
          "text": [
            "127.0.0.1 - - [25/May/2021 12:58:55] \"POST / HTTP/1.1\" 200 -\n"
          ],
          "name": "stderr"
        },
        {
          "output_type": "stream",
          "text": [
            "{\"destination\":\"Uce979b9786733f30f88ad4eb1d9e8125\",\"events\":[{\"type\":\"message\",\"message\":{\"type\":\"text\",\"id\":\"14112652537712\",\"text\":\"[::text:]自由\"},\"timestamp\":1621947535026,\"source\":{\"type\":\"user\",\"userId\":\"U69b5bef808bc39b5bb76b7d5e17b7a82\"},\"replyToken\":\"388e042f22604281a2f1cb7b3b22b82f\",\"mode\":\"active\"}]}\n"
          ],
          "name": "stdout"
        },
        {
          "output_type": "stream",
          "text": [
            "127.0.0.1 - - [25/May/2021 12:58:55] \"POST / HTTP/1.1\" 200 -\n"
          ],
          "name": "stderr"
        },
        {
          "output_type": "stream",
          "text": [
            "{\"destination\":\"Uce979b9786733f30f88ad4eb1d9e8125\",\"events\":[{\"type\":\"message\",\"message\":{\"type\":\"text\",\"id\":\"14112652566111\",\"text\":\"[::text:]吃飯\"},\"timestamp\":1621947535326,\"source\":{\"type\":\"user\",\"userId\":\"U69b5bef808bc39b5bb76b7d5e17b7a82\"},\"replyToken\":\"6ab3c1063a5347cfbab02c0a5912cff5\",\"mode\":\"active\"}]}\n"
          ],
          "name": "stdout"
        }
      ]
    }
  ]
}