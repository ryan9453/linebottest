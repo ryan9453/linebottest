{
  "nbformat": 4,
  "nbformat_minor": 0,
  "metadata": {
    "kernelspec": {
      "display_name": "Python 3",
      "language": "python",
      "name": "python3"
    },
    "language_info": {
      "codemirror_mode": {
        "name": "ipython",
        "version": 3
      },
      "file_extension": ".py",
      "mimetype": "text/x-python",
      "name": "python",
      "nbconvert_exporter": "python",
      "pygments_lexer": "ipython3",
      "version": "3.8.6"
    },
    "colab": {
      "name": "015_圖文選單建置.ipynb",
      "provenance": []
    }
  },
  "cells": [
    {
      "cell_type": "code",
      "metadata": {
        "colab": {
          "base_uri": "https://localhost:8080/",
          "height": 70
        },
        "id": "f8Im0hrikmCD",
        "outputId": "7ca2166d-b565-43a0-a1ed-03f87ab45f28"
      },
      "source": [
        "'''\n",
        "\n",
        "用戶菜單功能介紹\n",
        "\n",
        "    用戶能透過點擊菜單，進行我方希冀之業務功能。\n",
        "    \n",
        "流程\n",
        "    準備菜單的圖面設定檔\n",
        "    讀取安全設定檔上的參數\n",
        "    將菜單設定檔傳給Line\n",
        "    對Line上傳菜單照片\n",
        "    檢視現有的菜單\n",
        "    將菜單與用戶做綁定\n",
        "    將菜單與用戶解除綁定\n",
        "    刪除菜單\n",
        "\n",
        "'''"
      ],
      "execution_count": 14,
      "outputs": [
        {
          "output_type": "execute_result",
          "data": {
            "application/vnd.google.colaboratory.intrinsic+json": {
              "type": "string"
            },
            "text/plain": [
              "'\\n\\n用戶菜單功能介紹\\n\\n    用戶能透過點擊菜單，進行我方希冀之業務功能。\\n    \\n流程\\n    準備菜單的圖面設定檔\\n    讀取安全設定檔上的參數\\n    將菜單設定檔傳給Line\\n    對Line上傳菜單照片\\n    檢視現有的菜單\\n    將菜單與用戶做綁定\\n    將菜單與用戶解除綁定\\n    刪除菜單\\n\\n'"
            ]
          },
          "metadata": {
            "tags": []
          },
          "execution_count": 14
        }
      ]
    },
    {
      "cell_type": "code",
      "metadata": {
        "id": "Yb_BYBHHkmCE"
      },
      "source": [
        "'''\n",
        "菜單設定檔\n",
        "\n",
        "    設定圖面大小、按鍵名與功能\n",
        "    \n",
        "'''\n",
        "\n",
        "menuRawData=\"\"\"\n",
        "{\n",
        "  \"size\": {\n",
        "    \"width\": 2500,\n",
        "    \"height\": 1686\n",
        "  },\n",
        "  \"selected\": true,\n",
        "  \"name\": \"區塊鏈自定義菜單\",\n",
        "  \"chatBarText\": \"查看更多資訊\",\n",
        "  \"areas\": [\n",
        "    {\n",
        "      \"bounds\": {\n",
        "        \"x\": 5,\n",
        "        \"y\": 0,\n",
        "        \"width\": 824,\n",
        "        \"height\": 850\n",
        "      },\n",
        "      \"action\": {\n",
        "        \"type\": \"message\",\n",
        "        \"text\": \"[::text:]傳統交易\"\n",
        "      }\n",
        "    },\n",
        "    {\n",
        "      \"bounds\": {\n",
        "        \"x\": 0,\n",
        "        \"y\": 850,\n",
        "        \"width\": 825,\n",
        "        \"height\": 818\n",
        "      },\n",
        "      \"action\": {\n",
        "        \"type\": \"message\",\n",
        "        \"text\": \"[::text:]第三方公證人\"\n",
        "      }\n",
        "    },\n",
        "    {\n",
        "      \"bounds\": {\n",
        "        \"x\": 829,\n",
        "        \"y\": 5,\n",
        "        \"width\": 871,\n",
        "        \"height\": 849\n",
        "      },\n",
        "      \"action\": {\n",
        "        \"type\": \"message\",\n",
        "        \"text\": \"[::text:]多位公證人\"\n",
        "      }\n",
        "    },\n",
        "    {\n",
        "      \"bounds\": {\n",
        "        \"x\": 825,\n",
        "        \"y\": 854,\n",
        "        \"width\": 875,\n",
        "        \"height\": 814\n",
        "      },\n",
        "      \"action\": {\n",
        "        \"type\": \"message\",\n",
        "        \"text\": \"[::text:]多組織多位公證人\"\n",
        "      }\n",
        "    },\n",
        "    {\n",
        "      \"bounds\": {\n",
        "        \"x\": 1700,\n",
        "        \"y\": 0,\n",
        "        \"width\": 800,\n",
        "        \"height\": 858\n",
        "      },\n",
        "      \"action\": {\n",
        "        \"type\": \"message\",\n",
        "        \"text\": \"[::text:]教學訊息\"\n",
        "      }\n",
        "    },\n",
        "    {\n",
        "      \"bounds\": {\n",
        "        \"x\": 1700,\n",
        "        \"y\": 858,\n",
        "        \"width\": 800,\n",
        "        \"height\": 810\n",
        "      },\n",
        "      \"action\": {\n",
        "        \"type\": \"message\",\n",
        "        \"text\": \"[::text:]more\"\n",
        "      }\n",
        "    }\n",
        "  ]\n",
        "}\n",
        "\"\"\""
      ],
      "execution_count": 15,
      "outputs": []
    },
    {
      "cell_type": "code",
      "metadata": {
        "colab": {
          "base_uri": "https://localhost:8080/"
        },
        "id": "WHER8FHCk4te",
        "outputId": "d325a8b7-a3e2-4819-9399-856bb57f600b"
      },
      "source": [
        "!pip install line-bot-sdk"
      ],
      "execution_count": 16,
      "outputs": [
        {
          "output_type": "stream",
          "text": [
            "Requirement already satisfied: line-bot-sdk in /usr/local/lib/python3.7/dist-packages (1.19.0)\n",
            "Requirement already satisfied: requests>=2.0 in /usr/local/lib/python3.7/dist-packages (from line-bot-sdk) (2.23.0)\n",
            "Requirement already satisfied: future in /usr/local/lib/python3.7/dist-packages (from line-bot-sdk) (0.16.0)\n",
            "Requirement already satisfied: urllib3!=1.25.0,!=1.25.1,<1.26,>=1.21.1 in /usr/local/lib/python3.7/dist-packages (from requests>=2.0->line-bot-sdk) (1.24.3)\n",
            "Requirement already satisfied: certifi>=2017.4.17 in /usr/local/lib/python3.7/dist-packages (from requests>=2.0->line-bot-sdk) (2020.12.5)\n",
            "Requirement already satisfied: idna<3,>=2.5 in /usr/local/lib/python3.7/dist-packages (from requests>=2.0->line-bot-sdk) (2.10)\n",
            "Requirement already satisfied: chardet<4,>=3.0.2 in /usr/local/lib/python3.7/dist-packages (from requests>=2.0->line-bot-sdk) (3.0.4)\n"
          ],
          "name": "stdout"
        }
      ]
    },
    {
      "cell_type": "code",
      "metadata": {
        "id": "bO6gAXb8kmCF"
      },
      "source": [
        "\n",
        "'''\n",
        "\n",
        "用channel_access_token創建line_bot_api，預備用來跟Line進行溝通\n",
        "\n",
        "'''\n",
        "\n",
        "from linebot import (\n",
        "    LineBotApi, WebhookHandler\n",
        ")\n",
        "\n",
        "line_bot_api = LineBotApi(\"iRuogYf3cHsttNKwqUwl0phQV4fNuhmRPyVenE5DB5ArJHSLH/jYuJr31y7+DgGWRZJUSzr5i8NsvbKUcy7Xb9Akxys5GWdqm2bRcsbr/s03t4mpBO9UDnGcQG+BYHsxBFC6y36okKYWUg1qakCVSwdB04t89/1O/w1cDnyilFU=\")"
      ],
      "execution_count": 17,
      "outputs": []
    },
    {
      "cell_type": "code",
      "metadata": {
        "colab": {
          "base_uri": "https://localhost:8080/"
        },
        "id": "yEAgM0CJkmCG",
        "outputId": "7a0f68ed-9698-40c6-df2c-48d536178b25"
      },
      "source": [
        "'''\n",
        "\n",
        "載入前面的圖文選單設定，\n",
        "\n",
        "並要求line_bot_api將圖文選單上傳至Line\n",
        "    \n",
        "\n",
        "'''\n",
        "\n",
        "from linebot.models import RichMenu\n",
        "import requests\n",
        "import json\n",
        "\n",
        "menuJson=json.loads(menuRawData)\n",
        "\n",
        "lineRichMenuId = line_bot_api.create_rich_menu(rich_menu=RichMenu.new_from_json_dict(menuJson))\n",
        "print(lineRichMenuId)"
      ],
      "execution_count": 18,
      "outputs": [
        {
          "output_type": "stream",
          "text": [
            "richmenu-c5ab81d73b38c29717e0a0adb459c8e4\n"
          ],
          "name": "stdout"
        }
      ]
    },
    {
      "cell_type": "code",
      "metadata": {
        "colab": {
          "base_uri": "https://localhost:8080/"
        },
        "id": "16XjZoVGkmCG",
        "outputId": "bd793be4-0ad3-4312-c32d-9dd6aca09ea7"
      },
      "source": [
        "'''\n",
        "\n",
        "將先前準備的菜單照片，以Post消息寄發給Line\n",
        "\n",
        "    載入照片\n",
        "    要求line_bot_api，將圖片傳到先前的圖文選單id\n",
        "\n",
        "\n",
        "'''\n",
        "\n",
        "\n",
        "uploadImageFile=open(\"blockchain_demo.jpg\",'rb')\n",
        "\n",
        "setImageResponse = line_bot_api.set_rich_menu_image(lineRichMenuId,'image/jpeg',uploadImageFile)\n",
        "\n",
        "print(setImageResponse)"
      ],
      "execution_count": 19,
      "outputs": [
        {
          "output_type": "stream",
          "text": [
            "None\n"
          ],
          "name": "stdout"
        }
      ]
    },
    {
      "cell_type": "code",
      "metadata": {
        "colab": {
          "base_uri": "https://localhost:8080/"
        },
        "id": "ZqWAPrirkmCH",
        "outputId": "5fdd4b8a-c2b3-4966-bdb7-8c768e1b965c"
      },
      "source": [
        "'''\n",
        "\n",
        "將選單綁定到特定用戶身上\n",
        "    取出上面得到的菜單Id及用戶id\n",
        "    要求line_bot_api告知Line，將用戶與圖文選單做綁定\n",
        "\n",
        "'''\n",
        "\n",
        "# https://api.line.me/v2/bot/user/{userId}/richmenu/{richMenuId}\n",
        "\n",
        "\n",
        "linkResult=line_bot_api.link_rich_menu_to_user(\"U69b5bef808bc39b5bb76b7d5e17b7a82\", lineRichMenuId)\n",
        "\n",
        "print(linkResult)"
      ],
      "execution_count": 21,
      "outputs": [
        {
          "output_type": "stream",
          "text": [
            "None\n"
          ],
          "name": "stdout"
        }
      ]
    },
    {
      "cell_type": "code",
      "metadata": {
        "id": "ArWCjfuikmCH"
      },
      "source": [
        "'''\n",
        "\n",
        "檢視用戶目前所綁定的菜單\n",
        "    取出用戶id，並告知line_bot_api，\n",
        "    line_bot_api傳回用戶所綁定的菜單\n",
        "    印出\n",
        "\n",
        "'''\n",
        "\n",
        "#  https://api.line.me/v2/bot/user/{userId}/richmenu\n",
        "\n",
        "\n",
        "rich_menu_id = line_bot_api.get_rich_menu_id_of_user(\"SELF_USER_ID\")\n",
        "print(rich_menu_id)"
      ],
      "execution_count": null,
      "outputs": []
    },
    {
      "cell_type": "code",
      "metadata": {
        "id": "cqpJoNSRkmCI"
      },
      "source": [
        "'''\n",
        "\n",
        "解除選單與特定用戶的綁定\n",
        "    取出用戶id，並告知line_bot_api，\n",
        "    line_bot_api解除用戶所綁定的菜單\n",
        "'''\n",
        "\n",
        "lineUnregisterUserMenuResponse=line_bot_api.unlink_rich_menu_from_user(\"SELF_USER_ID\")\n",
        "print(lineUnregisterUserMenuResponse)"
      ],
      "execution_count": null,
      "outputs": []
    },
    {
      "cell_type": "code",
      "metadata": {
        "id": "v_THCICMkmCI"
      },
      "source": [
        "'''\n",
        "\n",
        "檢視帳號內，有哪些選單\n",
        "    要求line_bot_api，向line查詢我方的圖文選單列表\n",
        "    打印\n",
        "\n",
        "'''\n",
        "\n",
        "rich_menu_list = line_bot_api.get_rich_menu_list()\n",
        "for rich_menu in rich_menu_list:\n",
        "    print(rich_menu.rich_menu_id)"
      ],
      "execution_count": null,
      "outputs": []
    }
  ]
}